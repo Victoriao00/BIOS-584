{
 "cells": [
  {
   "cell_type": "markdown",
   "id": "d057afe7-d26d-450f-a783-eab5d582c303",
   "metadata": {},
   "source": [
    "This is my first Jupyter notebook "
   ]
  },
  {
   "cell_type": "code",
   "execution_count": 2,
   "id": "ab4a2426-44eb-4708-8792-aabe2d0784e5",
   "metadata": {},
   "outputs": [
    {
     "name": "stdout",
     "output_type": "stream",
     "text": [
      "My name is Victoria Ostebo\n"
     ]
    }
   ],
   "source": [
    "print( 'My name is Victoria Ostebo')"
   ]
  },
  {
   "cell_type": "code",
   "execution_count": null,
   "id": "4061fdb6-854a-4998-925d-521599b87bfb",
   "metadata": {},
   "outputs": [],
   "source": []
  }
 ],
 "metadata": {
  "kernelspec": {
   "display_name": "Python 3 (ipykernel)",
   "language": "python",
   "name": "python3"
  },
  "language_info": {
   "codemirror_mode": {
    "name": "ipython",
    "version": 3
   },
   "file_extension": ".py",
   "mimetype": "text/x-python",
   "name": "python",
   "nbconvert_exporter": "python",
   "pygments_lexer": "ipython3",
   "version": "3.13.7"
  }
 },
 "nbformat": 4,
 "nbformat_minor": 5
}

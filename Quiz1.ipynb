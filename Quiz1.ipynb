{
 "cells": [
  {
   "cell_type": "markdown",
   "id": "a005e3f8-caa1-4f4f-9553-52f7f44fcba3",
   "metadata": {},
   "source": [
    "Victoria Ostebo"
   ]
  },
  {
   "cell_type": "code",
   "execution_count": 2,
   "id": "856c2630-c46d-49f9-94d0-fe7f5d59c942",
   "metadata": {},
   "outputs": [
    {
     "name": "stdout",
     "output_type": "stream",
     "text": [
      "['cat1', 'cat1', 'cat1', 'cat2']\n"
     ]
    }
   ],
   "source": [
    "cat= ['cat1', 'cat1', 'cat1']\n",
    "cat.append('cat2')\n",
    "print(cat)"
   ]
  },
  {
   "cell_type": "code",
   "execution_count": 3,
   "id": "b50ef4ff-ee81-4681-9aca-be75b8939539",
   "metadata": {},
   "outputs": [
    {
     "name": "stdout",
     "output_type": "stream",
     "text": [
      "[]\n"
     ]
    }
   ],
   "source": [
    "cat= ['cat1', 'cat1', 'cat1']\n",
    "cat.clear()\n",
    "print(cat)"
   ]
  },
  {
   "cell_type": "code",
   "execution_count": 4,
   "id": "a96bcac1-c643-4e69-8e37-cc3b41f1cd01",
   "metadata": {},
   "outputs": [
    {
     "name": "stdout",
     "output_type": "stream",
     "text": [
      "['cat1', 'cat1', 'cat1']\n"
     ]
    }
   ],
   "source": [
    "cat= ['cat1', 'cat1', 'cat1']\n",
    "cat.copy()\n",
    "print(cat)"
   ]
  },
  {
   "cell_type": "code",
   "execution_count": 5,
   "id": "ff725daf-53f0-492e-a7c8-7ff23ba6e959",
   "metadata": {},
   "outputs": [
    {
     "data": {
      "text/plain": [
       "2"
      ]
     },
     "execution_count": 5,
     "metadata": {},
     "output_type": "execute_result"
    }
   ],
   "source": [
    "cat= ['cat1', 'cat1', 'cat2']\n",
    "cat.count('cat1')"
   ]
  },
  {
   "cell_type": "code",
   "execution_count": 6,
   "id": "17ad6fa4-6587-4011-b408-245572baeb2d",
   "metadata": {},
   "outputs": [
    {
     "data": {
      "text/plain": [
       "2"
      ]
     },
     "execution_count": 6,
     "metadata": {},
     "output_type": "execute_result"
    }
   ],
   "source": [
    "cat= ['cat1', 'cat1', 'cat2']\n",
    "cat.index('cat2')"
   ]
  },
  {
   "cell_type": "code",
   "execution_count": 8,
   "id": "ece671a6-b9fb-4f70-ad23-959da9c79714",
   "metadata": {},
   "outputs": [
    {
     "name": "stdout",
     "output_type": "stream",
     "text": [
      "['cat1', 'cat2', 'cat1', 'cat2']\n"
     ]
    }
   ],
   "source": [
    "cat= ['cat1', 'cat1', 'cat2']\n",
    "cat.insert(1, 'cat2')\n",
    "print(cat)\n"
   ]
  },
  {
   "cell_type": "code",
   "execution_count": 9,
   "id": "7a2f1134-b449-4ca6-9c2e-16aa4dba3b05",
   "metadata": {},
   "outputs": [
    {
     "name": "stdout",
     "output_type": "stream",
     "text": [
      "['cat1', 'cat1']\n"
     ]
    }
   ],
   "source": [
    "cat= ['cat1', 'cat1', 'cat2']\n",
    "cat.pop(2)\n",
    "print(cat)"
   ]
  },
  {
   "cell_type": "code",
   "execution_count": 10,
   "id": "bb50f57f-6285-42fb-9606-4f412bd7bdd6",
   "metadata": {},
   "outputs": [
    {
     "name": "stdout",
     "output_type": "stream",
     "text": [
      "['cat1', 'cat1']\n"
     ]
    }
   ],
   "source": [
    "cat= ['cat1', 'cat1', 'cat2']\n",
    "cat.remove('cat2')\n",
    "print(cat)"
   ]
  },
  {
   "cell_type": "code",
   "execution_count": 11,
   "id": "94a05098-ea31-46c4-b6d0-4fb027066dc5",
   "metadata": {},
   "outputs": [
    {
     "name": "stdout",
     "output_type": "stream",
     "text": [
      "['cat2', 'cat1', 'cat1']\n"
     ]
    }
   ],
   "source": [
    "cat= ['cat1', 'cat1', 'cat2']\n",
    "cat.reverse()\n",
    "print(cat)"
   ]
  },
  {
   "cell_type": "code",
   "execution_count": null,
   "id": "3a93e514-0095-4f74-a51e-dac48e20e8f9",
   "metadata": {},
   "outputs": [],
   "source": []
  },
  {
   "cell_type": "code",
   "execution_count": null,
   "id": "d8da83a5-53ed-4b54-8b7e-6619b166f7a4",
   "metadata": {},
   "outputs": [],
   "source": []
  }
 ],
 "metadata": {
  "kernelspec": {
   "display_name": "Python 3 (ipykernel)",
   "language": "python",
   "name": "python3"
  },
  "language_info": {
   "codemirror_mode": {
    "name": "ipython",
    "version": 3
   },
   "file_extension": ".py",
   "mimetype": "text/x-python",
   "name": "python",
   "nbconvert_exporter": "python",
   "pygments_lexer": "ipython3",
   "version": "3.13.7"
  }
 },
 "nbformat": 4,
 "nbformat_minor": 5
}
